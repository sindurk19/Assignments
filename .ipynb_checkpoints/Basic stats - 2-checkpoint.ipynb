{
 "cells": [
  {
   "cell_type": "code",
   "execution_count": 1,
   "id": "7ef2b930-f1d9-465c-986f-5340c62f7641",
   "metadata": {},
   "outputs": [
    {
     "name": "stdout",
     "output_type": "stream",
     "text": [
      "99% Confidence Interval (using sample std):\n",
      "Lower Bound: 1.0902 million characters\n",
      "Upper Bound: 1.3871 million characters\n"
     ]
    }
   ],
   "source": [
    "import numpy as np\n",
    "import scipy.stats as st\n",
    "\n",
    "# Data\n",
    "data = np.array([1.13, 1.55, 1.43, 0.92, 1.25, 1.36, 1.32, 0.85, 1.07, 1.48, 1.20, 1.33, 1.18, 1.22, 1.29])\n",
    "n = len(data)\n",
    "\n",
    "# a. 99% Confidence Interval using Sample Standard Deviation\n",
    "\n",
    "# Calculate sample mean and standard deviation\n",
    "sample_mean = np.mean(data)\n",
    "sample_std = np.std(data, ddof=1)  # ddof=1 for sample standard deviation\n",
    "\n",
    "# Degrees of freedom\n",
    "df = n - 1\n",
    "\n",
    "# Confidence level\n",
    "confidence_level = 0.99\n",
    "\n",
    "# Calculate t-statistic\n",
    "alpha = 1 - confidence_level\n",
    "t_critical = st.t.ppf(1 - alpha/2, df) #Two-tailed test\n",
    "\n",
    "# Calculate margin of error\n",
    "margin_of_error = t_critical * (sample_std / np.sqrt(n))\n",
    "\n",
    "# Calculate confidence interval\n",
    "lower_bound_sample = sample_mean - margin_of_error\n",
    "upper_bound_sample = sample_mean + margin_of_error\n",
    "\n",
    "print(\"99% Confidence Interval (using sample std):\")\n",
    "print(f\"Lower Bound: {lower_bound_sample:.4f} million characters\")\n",
    "print(f\"Upper Bound: {upper_bound_sample:.4f} million characters\")"
   ]
  },
  {
   "cell_type": "code",
   "execution_count": 3,
   "id": "fa03bf61-c2b0-4f85-9e9f-f02c0a118a5b",
   "metadata": {},
   "outputs": [
    {
     "name": "stdout",
     "output_type": "stream",
     "text": [
      "\n",
      "99% Confidence Interval (using population std):\n",
      "Lower Bound: 1.1057 million characters\n",
      "Upper Bound: 1.3717 million characters\n"
     ]
    }
   ],
   "source": [
    "# b. 99% Confidence Interval using Known Population Standard Deviation\n",
    "\n",
    "# Known population standard deviation\n",
    "population_std = 0.2\n",
    "\n",
    "# Calculate z-statistic (since population std is known)\n",
    "z_critical = st.norm.ppf(1 - alpha/2)  # Two-tailed test\n",
    "\n",
    "# Calculate margin of error\n",
    "margin_of_error_pop = z_critical * (population_std / np.sqrt(n))\n",
    "\n",
    "# Calculate confidence interval\n",
    "lower_bound_pop = sample_mean - margin_of_error_pop\n",
    "upper_bound_pop = sample_mean + margin_of_error_pop\n",
    "\n",
    "print(\"\\n99% Confidence Interval (using population std):\")\n",
    "print(f\"Lower Bound: {lower_bound_pop:.4f} million characters\")\n",
    "print(f\"Upper Bound: {upper_bound_pop:.4f} million characters\")"
   ]
  },
  {
   "cell_type": "code",
   "execution_count": 5,
   "id": "b99698c8-58fb-4431-b5c8-398a0bb3a69b",
   "metadata": {},
   "outputs": [
    {
     "name": "stdout",
     "output_type": "stream",
     "text": [
      "\n",
      "Explanation and Rationale:\n",
      "\n",
      "Part a:\n",
      "Since the population standard deviation is unknown, we use the sample standard deviation to estimate it.  Because we're using the sample standard deviation, the t-distribution is appropriate. The t-distribution accounts for the added uncertainty introduced by estimating the population standard deviation from the sample. We calculate the t-critical value based on the desired confidence level (99%) and the degrees of freedom (n-1). The margin of error is then calculated using the t-critical value, sample standard deviation, and sample size. Finally, the confidence interval is constructed by adding and subtracting the margin of error from the sample mean.\n",
      "\n",
      "Part b:\n",
      "When the population standard deviation is known, we can use the z-distribution.  This is because we have precise knowledge of the variability of the population. We calculate the z-critical value based on the confidence level. The margin of error is calculated using the z-critical value, population standard deviation, and sample size. The confidence interval is then constructed around the sample mean, as in part a, but using the z-based margin of error.\n"
     ]
    }
   ],
   "source": [
    "# Explanation and Rationale:\n",
    "\n",
    "print(\"\\nExplanation and Rationale:\")\n",
    "\n",
    "print(\"\\nPart a:\")\n",
    "print(\"Since the population standard deviation is unknown, we use the sample standard deviation to estimate it.  Because we're using the sample standard deviation, the t-distribution is appropriate. The t-distribution accounts for the added uncertainty introduced by estimating the population standard deviation from the sample. We calculate the t-critical value based on the desired confidence level (99%) and the degrees of freedom (n-1). The margin of error is then calculated using the t-critical value, sample standard deviation, and sample size. Finally, the confidence interval is constructed by adding and subtracting the margin of error from the sample mean.\")\n",
    "\n",
    "print(\"\\nPart b:\")\n",
    "print(\"When the population standard deviation is known, we can use the z-distribution.  This is because we have precise knowledge of the variability of the population. We calculate the z-critical value based on the confidence level. The margin of error is calculated using the z-critical value, population standard deviation, and sample size. The confidence interval is then constructed around the sample mean, as in part a, but using the z-based margin of error.\")\n"
   ]
  },
  {
   "cell_type": "code",
   "execution_count": null,
   "id": "3229979e-2eed-4900-b012-f33292200094",
   "metadata": {},
   "outputs": [],
   "source": []
  }
 ],
 "metadata": {
  "kernelspec": {
   "display_name": "Python [conda env:base] *",
   "language": "python",
   "name": "conda-base-py"
  },
  "language_info": {
   "codemirror_mode": {
    "name": "ipython",
    "version": 3
   },
   "file_extension": ".py",
   "mimetype": "text/x-python",
   "name": "python",
   "nbconvert_exporter": "python",
   "pygments_lexer": "ipython3",
   "version": "3.12.7"
  }
 },
 "nbformat": 4,
 "nbformat_minor": 5
}
