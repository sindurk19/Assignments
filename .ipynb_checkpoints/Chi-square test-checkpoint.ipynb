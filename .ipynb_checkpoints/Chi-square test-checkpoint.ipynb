{
 "cells": [
  {
   "cell_type": "code",
   "execution_count": 21,
   "id": "b69b46f9-b772-44d6-ba89-aa87679a7b48",
   "metadata": {},
   "outputs": [
    {
     "name": "stdout",
     "output_type": "stream",
     "text": [
      "Hypotheses:\n",
      "Null Hypothesis (H0): There is no association between device type and customer satisfaction.\n",
      "Alternative Hypothesis (H1): There is an association between device type and customer satisfaction.\n",
      "\n"
     ]
    }
   ],
   "source": [
    "import pandas as pd\n",
    "import numpy as np\n",
    "from scipy.stats import chi2_contingency\n",
    "from scipy.stats import chi2  \n",
    "\n",
    "# Data provided in the contingency table\n",
    "data = {'Satisfaction': ['Very Satisfied', 'Satisfied', 'Neutral', 'Unsatisfied', 'Very Unsatisfied'],\n",
    "        'Smart Thermostat': [50, 80, 60, 30, 20],\n",
    "        'Smart Light': [70, 100, 90, 50, 50]}\n",
    "\n",
    "df = pd.DataFrame(data)\n",
    "df = df.set_index('Satisfaction')\n",
    "\n",
    "# 1. State the Hypotheses:\n",
    "\n",
    "# Null Hypothesis (H0): There is no association between device type and customer satisfaction.\n",
    "# Alternative Hypothesis (H1): There is an association between device type and customer satisfaction.\n",
    "\n",
    "print(\"Hypotheses:\")\n",
    "print(\"Null Hypothesis (H0): There is no association between device type and customer satisfaction.\")\n",
    "print(\"Alternative Hypothesis (H1): There is an association between device type and customer satisfaction.\\n\")\n"
   ]
  },
  {
   "cell_type": "code",
   "execution_count": 23,
   "id": "3137b9f9-a20a-47c7-b58a-f6cff60d3f63",
   "metadata": {},
   "outputs": [
    {
     "name": "stdout",
     "output_type": "stream",
     "text": [
      "Chi-Square Statistic: <scipy.stats._continuous_distns.chi2_gen object at 0x00000213D69CBB30>\n",
      "P-value: 0.22784371130697179\n",
      "Degrees of Freedom: 4\n",
      "Expected Frequencies:\n",
      " [[ 48.  72.]\n",
      " [ 72. 108.]\n",
      " [ 60.  90.]\n",
      " [ 32.  48.]\n",
      " [ 28.  42.]]\n"
     ]
    }
   ],
   "source": [
    "# 2. Compute the Chi-Square Statistic:\n",
    "chi2_statistic, p, dof, expected = chi2_contingency(df) \n",
    "\n",
    "\n",
    "print(\"Chi-Square Statistic:\", chi2)\n",
    "print(\"P-value:\", p)\n",
    "print(\"Degrees of Freedom:\", dof)\n",
    "print(\"Expected Frequencies:\\n\", expected)\n"
   ]
  },
  {
   "cell_type": "code",
   "execution_count": 27,
   "id": "c32f22fc-ad45-4eba-a6d2-3ab5a6f8910d",
   "metadata": {},
   "outputs": [
    {
     "name": "stdout",
     "output_type": "stream",
     "text": [
      "\n",
      "Critical Value (alpha = 0.05): 9.487729036781154\n"
     ]
    }
   ],
   "source": [
    "# 3. Determine the Critical Value:\n",
    "alpha = 0.05  # Significance level\n",
    "\n",
    "critical_value = chi2.ppf(1 - alpha, dof) #ppf : Percent Point Function  \n",
    "\n",
    "print(\"\\nCritical Value (alpha = 0.05):\", critical_value)\n"
   ]
  },
  {
   "cell_type": "code",
   "execution_count": 31,
   "id": "3b69da64-5a25-4573-b991-e81bb2ccba22",
   "metadata": {},
   "outputs": [
    {
     "name": "stdout",
     "output_type": "stream",
     "text": [
      "\n",
      "Decision:\n",
      "Fail to reject the null hypothesis. There is no significant association between device type and customer satisfaction.\n",
      "\n",
      "Further Interpretation (using p-value):\n",
      "Fail to reject the null hypothesis. There is no significant association between device type and customer satisfaction.\n",
      "\n",
      "Contingency Table:\n",
      "                  Smart Thermostat  Smart Light\n",
      "Satisfaction                                   \n",
      "Very Satisfied                  50           70\n",
      "Satisfied                       80          100\n",
      "Neutral                         60           90\n",
      "Unsatisfied                     30           50\n",
      "Very Unsatisfied                20           50\n",
      "\n",
      "Expected Frequencies Table:\n",
      "                  Smart Thermostat  Smart Light\n",
      "Satisfaction                                   \n",
      "Very Satisfied                48.0         72.0\n",
      "Satisfied                     72.0        108.0\n",
      "Neutral                       60.0         90.0\n",
      "Unsatisfied                   32.0         48.0\n",
      "Very Unsatisfied              28.0         42.0\n"
     ]
    }
   ],
   "source": [
    "# 4. Make a Decision:\n",
    "\n",
    "print(\"\\nDecision:\")\n",
    "if chi2_statistic > critical_value:  # Compare chi2_statistic (float) with critical_value (float)\n",
    "    print(\"Reject the null hypothesis. There is a significant association between device type and customer satisfaction.\")\n",
    "else:\n",
    "    print(\"Fail to reject the null hypothesis. There is no significant association between device type and customer satisfaction.\")\n",
    "    \n",
    "# Further Interpretation (using p-value):\n",
    "\n",
    "print(\"\\nFurther Interpretation (using p-value):\")\n",
    "if p < alpha:\n",
    "    print(\"Reject the null hypothesis. There is a significant association between device type and customer satisfaction.\")\n",
    "else:\n",
    "    print(\"Fail to reject the null hypothesis. There is no significant association between device type and customer satisfaction.\")\n",
    "\n",
    "\n",
    "# Display the DataFrame (optional)\n",
    "print(\"\\nContingency Table:\")\n",
    "print(df)\n",
    "\n",
    "\n",
    "# Example of how to access expected frequencies for further analysis\n",
    "expected_df = pd.DataFrame(expected, index=df.index, columns=df.columns)\n",
    "print(\"\\nExpected Frequencies Table:\")\n",
    "print(expected_df)"
   ]
  },
  {
   "cell_type": "code",
   "execution_count": null,
   "id": "f144ae86-74a2-480c-b368-e7f85e70c568",
   "metadata": {},
   "outputs": [],
   "source": []
  }
 ],
 "metadata": {
  "kernelspec": {
   "display_name": "Python [conda env:base] *",
   "language": "python",
   "name": "conda-base-py"
  },
  "language_info": {
   "codemirror_mode": {
    "name": "ipython",
    "version": 3
   },
   "file_extension": ".py",
   "mimetype": "text/x-python",
   "name": "python",
   "nbconvert_exporter": "python",
   "pygments_lexer": "ipython3",
   "version": "3.12.7"
  }
 },
 "nbformat": 4,
 "nbformat_minor": 5
}
