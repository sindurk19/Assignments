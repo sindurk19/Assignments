{
 "cells": [
  {
   "cell_type": "code",
   "execution_count": 3,
   "id": "33d07f0e-a5a3-4a67-ae8d-fa984883247b",
   "metadata": {},
   "outputs": [
    {
     "name": "stdout",
     "output_type": "stream",
     "text": [
      "Test Statistic (t): -38.0\n"
     ]
    }
   ],
   "source": [
    "import numpy as np\n",
    "import scipy.stats as stats\n",
    "\n",
    "# 1. State the Hypotheses\n",
    "\n",
    "# Null Hypothesis (H0): The weekly operating cost is not higher than the model suggests.  μ <= 3000\n",
    "# Alternative Hypothesis (H1): The weekly operating cost is higher than the model suggests. μ > 3000 (Right-tailed test)\n",
    "\n",
    "# 2. Calculate the Test Statistic\n",
    "\n",
    "# Given data\n",
    "x_bar = 3050  # Sample mean weekly cost\n",
    "mu = 1000 + 5 * 600  # Theoretical mean weekly cost (W = $1,000 + $5X for X = 600)\n",
    "sigma = 5*25 #standard deviation of weekly cost = 5* standard deviation of X\n",
    "n = 25  # Sample size\n",
    "\n",
    "# Calculate the test statistic (t)\n",
    "t = (x_bar - mu) / (sigma / np.sqrt(n))\n",
    "\n",
    "print(f\"Test Statistic (t): {t}\")\n"
   ]
  },
  {
   "cell_type": "code",
   "execution_count": 5,
   "id": "1e610aba-c63e-4dc6-9821-23e8c2b45c87",
   "metadata": {},
   "outputs": [
    {
     "name": "stdout",
     "output_type": "stream",
     "text": [
      "Critical Value (t): 1.7108820799094275\n"
     ]
    }
   ],
   "source": [
    "# 3. Determine the Critical Value\n",
    "\n",
    "alpha = 0.05  # Significance level\n",
    "\n",
    "# For a one-tailed test (right-tailed in this case) with a t-distribution and n-1 degrees of freedom:\n",
    "degrees_of_freedom = n - 1\n",
    "critical_value = stats.t.ppf(1 - alpha, degrees_of_freedom)  # Using t-distribution since sigma is estimated. If sigma was known, we would use z distribution\n",
    "\n",
    "print(f\"Critical Value (t): {critical_value}\")\n"
   ]
  },
  {
   "cell_type": "code",
   "execution_count": 7,
   "id": "bae0eb4e-08f4-4505-be0b-379d892b84fa",
   "metadata": {},
   "outputs": [
    {
     "name": "stdout",
     "output_type": "stream",
     "text": [
      "\n",
      "Decision:\n",
      "Fail to reject the null hypothesis (H0).\n"
     ]
    }
   ],
   "source": [
    "# 4. Make a Decision\n",
    "\n",
    "print(\"\\nDecision:\")\n",
    "if t > critical_value:\n",
    "    print(\"Reject the null hypothesis (H0).\")\n",
    "else:\n",
    "    print(\"Fail to reject the null hypothesis (H0).\")"
   ]
  },
  {
   "cell_type": "code",
   "execution_count": 9,
   "id": "0d79baad-0a8e-4733-bb82-3e297bdd82ea",
   "metadata": {},
   "outputs": [
    {
     "name": "stdout",
     "output_type": "stream",
     "text": [
      "\n",
      "Conclusion:\n",
      "There is not enough evidence to support the restaurant owners' claim that the weekly operating costs are higher than the model suggests.\n",
      "P-value: 1.0\n",
      "\n",
      "Decision based on p-value:\n",
      "Fail to reject the null hypothesis (H0).\n"
     ]
    }
   ],
   "source": [
    "# 5. Conclusion\n",
    "\n",
    "print(\"\\nConclusion:\")\n",
    "if t > critical_value:\n",
    "    print(\"There is strong evidence to support the restaurant owners' claim that the weekly operating costs are higher than the model suggests.\")\n",
    "else:\n",
    "    print(\"There is not enough evidence to support the restaurant owners' claim that the weekly operating costs are higher than the model suggests.\")\n",
    "\n",
    "\n",
    "#Additional information (p-value calculation for more robust decision making)\n",
    "\n",
    "p_value = 1- stats.t.cdf(t, degrees_of_freedom)\n",
    "print(f\"P-value: {p_value}\")\n",
    "\n",
    "print(\"\\nDecision based on p-value:\")\n",
    "if p_value < alpha:\n",
    "    print(\"Reject the null hypothesis (H0).\")\n",
    "else:\n",
    "    print(\"Fail to reject the null hypothesis (H0).\")"
   ]
  },
  {
   "cell_type": "code",
   "execution_count": null,
   "id": "2073acae-5c64-40be-aa98-1862e08e3847",
   "metadata": {},
   "outputs": [],
   "source": []
  }
 ],
 "metadata": {
  "kernelspec": {
   "display_name": "Python [conda env:base] *",
   "language": "python",
   "name": "conda-base-py"
  },
  "language_info": {
   "codemirror_mode": {
    "name": "ipython",
    "version": 3
   },
   "file_extension": ".py",
   "mimetype": "text/x-python",
   "name": "python",
   "nbconvert_exporter": "python",
   "pygments_lexer": "ipython3",
   "version": "3.12.7"
  }
 },
 "nbformat": 4,
 "nbformat_minor": 5
}
