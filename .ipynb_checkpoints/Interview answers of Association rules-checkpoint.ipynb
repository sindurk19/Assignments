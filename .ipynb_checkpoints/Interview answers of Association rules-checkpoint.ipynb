{
 "cells": [
  {
   "cell_type": "code",
   "execution_count": null,
   "id": "73ed4602-a95d-41c5-9da1-e86d9da3c519",
   "metadata": {},
   "outputs": [],
   "source": [
    "1. What is Lift and why is it important in Association Rules?\n",
    "\n",
    "* Definition: Lift is a measure that tells us how much more likely two items are to be bought together compared to them being bought independently.  \n",
    "\n",
    "* Interpretation: Lift = 1 → No association (A and B occur together just by chance)\n",
    "                  Lift > 1 → Positive association (A and B occur together more often than expected).\n",
    "                  Lift < 1 → Negative association (A and B occur together less often than expected).\n",
    "* Importance: Lift helps us filter out rules that may have high support and confidence but are not actually meaningful. It highlights rules where the presence of one product genuinely increases the likelihood of purchasing another product."
   ]
  },
  {
   "cell_type": "code",
   "execution_count": null,
   "id": "7dd074cc-675d-47ca-9216-db3e6dfaa6e6",
   "metadata": {},
   "outputs": [],
   "source": [
    "2. What is Support and Confidence? How do you calculate them?\n",
    "\n",
    "* Support: Indicates how frequently an itemset appears in the dataset.\n",
    "* Example: If 100 out of 1000 transactions include \"Milk\", then Support(Milk) = 100/1000 = 0.1 (10%).\n",
    "\n",
    "* Confidence: Indicates how often items in B are purchased when items in A are purchased.\n",
    "* Example: If 60 out of 100 transactions that contain \"Milk\" also contain \"Bread\", then Confidence(Milk → Bread) = 60/100 = 0.6 (60%).\n"
   ]
  },
  {
   "cell_type": "code",
   "execution_count": null,
   "id": "c3f6f504-2964-4382-a34d-2e58adabdede",
   "metadata": {},
   "outputs": [],
   "source": [
    "3. What are some limitations or challenges of Association Rule Mining?\n",
    "\n",
    "* Large number of rules: When dataset is big, Apriori can generate thousands of rules, making it hard to filter meaningful ones.\n",
    "\n",
    "* Computational cost: Apriori scans the dataset multiple times, which is time-consuming for large datasets.\n",
    "\n",
    "* Redundant/Uninteresting rules: Many rules may have high support and confidence but are not truly useful without lift filtering.\n",
    "\n",
    "* Sparse data problem: In datasets with too many unique items (like online retail), many item combinations are rare, making it hard to extract significant rules.\n",
    "\n",
    "* Threshold selection issue: Choosing appropriate support, confidence, and lift thresholds is tricky—too high may miss good rules, too low may generate noise."
   ]
  }
 ],
 "metadata": {
  "kernelspec": {
   "display_name": "Python [conda env:base] *",
   "language": "python",
   "name": "conda-base-py"
  },
  "language_info": {
   "codemirror_mode": {
    "name": "ipython",
    "version": 3
   },
   "file_extension": ".py",
   "mimetype": "text/x-python",
   "name": "python",
   "nbconvert_exporter": "python",
   "pygments_lexer": "ipython3",
   "version": "3.12.7"
  }
 },
 "nbformat": 4,
 "nbformat_minor": 5
}
