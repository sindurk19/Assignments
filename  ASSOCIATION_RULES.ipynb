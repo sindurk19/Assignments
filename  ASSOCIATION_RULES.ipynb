{
 "cells": [
  {
   "cell_type": "code",
   "execution_count": 5,
   "id": "1115694a-5445-455d-809a-d0e560f48008",
   "metadata": {},
   "outputs": [
    {
     "name": "stdout",
     "output_type": "stream",
     "text": [
      "Top Rules by Lift:\n",
      "            antecedents          consequents   support  confidence      lift\n",
      "73          (spaghetti)        (ground beef)  0.039200    0.225115  2.290857\n",
      "72        (ground beef)          (spaghetti)  0.039200    0.398915  2.290857\n",
      "95          (spaghetti)          (olive oil)  0.022933    0.131700  2.003547\n",
      "94          (olive oil)          (spaghetti)  0.022933    0.348884  2.003547\n",
      "86               (soup)      (mineral water)  0.023067    0.456464  1.915771\n",
      "87      (mineral water)               (soup)  0.023067    0.096810  1.915771\n",
      "59  (frozen vegetables)               (milk)  0.023600    0.247552  1.910127\n",
      "58               (milk)  (frozen vegetables)  0.023600    0.182099  1.910127\n",
      "1             (burgers)               (eggs)  0.028800    0.330275  1.837585\n",
      "0                (eggs)            (burgers)  0.028800    0.160237  1.837585\n",
      "\n",
      "Filtered Strong Rules (Confidence > 0.7, Lift > 1.2):\n",
      "Empty DataFrame\n",
      "Columns: [antecedents, consequents, support, confidence, lift]\n",
      "Index: []\n",
      "\n",
      "Summary:\n",
      "The above rules highlight stronger product associations by applying a higher confidence threshold.\n",
      "This ensures that the visualized and analyzed rules reflect more reliable and meaningful patterns in customer purchasing behavior.\n"
     ]
    }
   ],
   "source": [
    "import pandas as pd\n",
    "from mlxtend.preprocessing import TransactionEncoder\n",
    "from mlxtend.frequent_patterns import apriori, association_rules\n",
    "\n",
    "# Load dataset\n",
    "df = pd.read_csv(\"C:\\\\Users\\\\Sindu\\\\Desktop\\\\Assignment ExcelR\\\\Association Rules\\\\Association Rules\\\\Online retail.csv\", encoding='utf-8-sig')\n",
    "\n",
    "# Convert Transaction Format to One-Hot Format\n",
    "transactions = df.iloc[:, 0].apply(lambda x: x.split(','))\n",
    "\n",
    "te = TransactionEncoder()\n",
    "te_ary = te.fit(transactions).transform(transactions)\n",
    "df_encoded = pd.DataFrame(te_ary, columns=te.columns_)\n",
    "\n",
    "# Apply Apriori Algorithm\n",
    "frequent_itemsets = apriori(df_encoded, min_support=0.02, use_colnames=True)\n",
    "\n",
    "rules = association_rules(frequent_itemsets, metric=\"lift\", min_threshold=0.5)\n",
    "\n",
    "# Sort rules by lift (Top 10)\n",
    "top_rules = rules[['antecedents', 'consequents', 'support', 'confidence', 'lift']].sort_values(by='lift', ascending=False).head(10)\n",
    "\n",
    "print(\"Top Rules by Lift:\")\n",
    "print(top_rules)\n",
    "\n",
    "# Filter Strong Rules with Higher Confidence\n",
    "strong_rules = rules[(rules['confidence'] > 0.7) & (rules['lift'] > 1.2)]\n",
    "strong_rules = strong_rules[['antecedents', 'consequents', 'support', 'confidence', 'lift']]\n",
    "\n",
    "print(\"\\nFiltered Strong Rules (Confidence > 0.7, Lift > 1.2):\")\n",
    "print(strong_rules)\n",
    "\n",
    "# Summary / Insights\n",
    "print(\"\\nSummary:\")\n",
    "print(\"The above rules highlight stronger product associations by applying a higher confidence threshold.\")\n",
    "print(\"This ensures that the visualized and analyzed rules reflect more reliable and meaningful patterns in customer purchasing behavior.\")\n"
   ]
  },
  {
   "cell_type": "code",
   "execution_count": null,
   "id": "ad32cb3c-4a2b-4f99-9fdc-912fbbf92628",
   "metadata": {},
   "outputs": [],
   "source": []
  }
 ],
 "metadata": {
  "kernelspec": {
   "display_name": "Python [conda env:base] *",
   "language": "python",
   "name": "conda-base-py"
  },
  "language_info": {
   "codemirror_mode": {
    "name": "ipython",
    "version": 3
   },
   "file_extension": ".py",
   "mimetype": "text/x-python",
   "name": "python",
   "nbconvert_exporter": "python",
   "pygments_lexer": "ipython3",
   "version": "3.12.7"
  }
 },
 "nbformat": 4,
 "nbformat_minor": 5
}
