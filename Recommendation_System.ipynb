{
 "cells": [
  {
   "cell_type": "code",
   "execution_count": 1,
   "id": "ffd3f905-6621-4cc2-9748-f33c6a5f94ac",
   "metadata": {},
   "outputs": [
    {
     "name": "stdout",
     "output_type": "stream",
     "text": [
      "   anime_id                              name  \\\n",
      "0     32281                    Kimi no Na wa.   \n",
      "1      5114  Fullmetal Alchemist: Brotherhood   \n",
      "2     28977                          Gintama°   \n",
      "3      9253                       Steins;Gate   \n",
      "4      9969                     Gintama&#039;   \n",
      "\n",
      "                                               genre   type episodes  rating  \\\n",
      "0               Drama, Romance, School, Supernatural  Movie        1    9.37   \n",
      "1  Action, Adventure, Drama, Fantasy, Magic, Mili...     TV       64    9.26   \n",
      "2  Action, Comedy, Historical, Parody, Samurai, S...     TV       51    9.25   \n",
      "3                                   Sci-Fi, Thriller     TV       24    9.17   \n",
      "4  Action, Comedy, Historical, Parody, Samurai, S...     TV       51    9.16   \n",
      "\n",
      "   members  \n",
      "0   200630  \n",
      "1   793665  \n",
      "2   114262  \n",
      "3   673572  \n",
      "4   151266  \n",
      "<class 'pandas.core.frame.DataFrame'>\n",
      "RangeIndex: 12294 entries, 0 to 12293\n",
      "Data columns (total 7 columns):\n",
      " #   Column    Non-Null Count  Dtype  \n",
      "---  ------    --------------  -----  \n",
      " 0   anime_id  12294 non-null  int64  \n",
      " 1   name      12294 non-null  object \n",
      " 2   genre     12232 non-null  object \n",
      " 3   type      12269 non-null  object \n",
      " 4   episodes  12294 non-null  object \n",
      " 5   rating    12064 non-null  float64\n",
      " 6   members   12294 non-null  int64  \n",
      "dtypes: float64(1), int64(2), object(4)\n",
      "memory usage: 672.5+ KB\n",
      "None\n",
      "anime_id      0\n",
      "name          0\n",
      "genre        62\n",
      "type         25\n",
      "episodes      0\n",
      "rating      230\n",
      "members       0\n",
      "dtype: int64\n"
     ]
    }
   ],
   "source": [
    "# 1. Import Required Libraries\n",
    "import pandas as pd\n",
    "import numpy as np\n",
    "from sklearn.feature_extraction.text import TfidfVectorizer\n",
    "from sklearn.metrics.pairwise import cosine_similarity\n",
    "from sklearn.model_selection import train_test_split\n",
    "from sklearn.metrics import precision_score, recall_score, f1_score\n",
    "\n",
    "# 2. Load Dataset\n",
    "df = pd.read_csv('C:\\\\Users\\\\Sindu\\\\Desktop\\\\Assignment ExcelR\\\\Recommendation System\\\\Recommendation System\\\\anime.csv')\n",
    "\n",
    "# 3. Explore Dataset\n",
    "print(df.head())\n",
    "print(df.info())\n",
    "print(df.isnull().sum())\n",
    "\n",
    "# 4. Handle Missing Values\n",
    "df['genre'] = df['genre'].fillna('Unknown')\n",
    "df['type'] = df['type'].fillna('Unknown')\n",
    "df['rating'] = df['rating'].fillna(df['rating'].mean())  # fill missing ratings with mean"
   ]
  },
  {
   "cell_type": "code",
   "execution_count": 5,
   "id": "6bc08427-41af-43ba-a71d-d495b14dd58f",
   "metadata": {},
   "outputs": [
    {
     "name": "stdout",
     "output_type": "stream",
     "text": [
      "                               name  \\\n",
      "0                    Kimi no Na wa.   \n",
      "1  Fullmetal Alchemist: Brotherhood   \n",
      "2                          Gintama°   \n",
      "3                       Steins;Gate   \n",
      "4                     Gintama&#039;   \n",
      "\n",
      "                                            features  \n",
      "0         Drama, Romance, School, Supernatural Movie  \n",
      "1  Action, Adventure, Drama, Fantasy, Magic, Mili...  \n",
      "2  Action, Comedy, Historical, Parody, Samurai, S...  \n",
      "3                                Sci-Fi, Thriller TV  \n",
      "4  Action, Comedy, Historical, Parody, Samurai, S...  \n",
      "TF-IDF Matrix Shape: (12294, 52)\n",
      "Numeric Features Shape: (12294, 2)\n",
      "Final Feature Matrix Shape: (12294, 54)\n"
     ]
    }
   ],
   "source": [
    "# 5. Feature Extraction\n",
    "# Use \"genre\" + \"type\" as text features\n",
    "df['features'] = df['genre'] + \" \" + df['type']\n",
    "\n",
    "# Show a sample of extracted features\n",
    "print(df[['name','features']].head())\n",
    "\n",
    "# Convert text (genre+type) to numerical vectors using TF-IDF\n",
    "tfidf = TfidfVectorizer(stop_words='english')\n",
    "tfidf_matrix = tfidf.fit_transform(df['features'])\n",
    "\n",
    "print(\"TF-IDF Matrix Shape:\", tfidf_matrix.shape)  # (rows, features)\n",
    "\n",
    "# Normalize numerical features (rating + members)\n",
    "scaler = MinMaxScaler()\n",
    "num_features = scaler.fit_transform(df[['rating','members']].fillna(0))\n",
    "\n",
    "print(\"Numeric Features Shape:\", num_features.shape)\n",
    "\n",
    "# Combine text + numeric features\n",
    "final_features = hstack([tfidf_matrix, num_features])\n",
    "\n",
    "print(\"Final Feature Matrix Shape:\", final_features.shape)\n"
   ]
  },
  {
   "cell_type": "code",
   "execution_count": 9,
   "id": "a4ba9383-1470-4386-ad1e-2bfb931321e8",
   "metadata": {},
   "outputs": [
    {
     "name": "stdout",
     "output_type": "stream",
     "text": [
      "Cosine Similarity Matrix Shape: (12294, 12294)\n",
      "[[1.         0.52502301 0.46247873 0.46668313 0.46225335]\n",
      " [0.52502301 1.         0.53788793 0.60287706 0.54820695]\n",
      " [0.46247873 0.53788793 1.         0.57155151 0.99960911]\n",
      " [0.46668313 0.60287706 0.57155151 1.         0.58025853]\n",
      " [0.46225335 0.54820695 0.99960911 0.58025853 1.        ]]\n"
     ]
    }
   ],
   "source": [
    "# 6. Compute Cosine Similarity\n",
    "\n",
    "# Check the shape of cosine similarity matrix\n",
    "print(\"Cosine Similarity Matrix Shape:\", cosine_sim.shape)\n",
    "\n",
    "# Show first 5x5 similarity values\n",
    "print(cosine_sim[:5, :5])\n"
   ]
  },
  {
   "cell_type": "code",
   "execution_count": 11,
   "id": "f86133fb-498a-427c-a196-8d62b2a49390",
   "metadata": {},
   "outputs": [
    {
     "name": "stdout",
     "output_type": "stream",
     "text": [
      "Recommendations for 'Naruto':\n",
      "615                                    Naruto: Shippuuden\n",
      "206                                         Dragon Ball Z\n",
      "346                                           Dragon Ball\n",
      "588                                       Dragon Ball Kai\n",
      "1930                                    Dragon Ball Super\n",
      "1472          Naruto: Shippuuden Movie 4 - The Lost Tower\n",
      "1573    Naruto: Shippuuden Movie 3 - Hi no Ishi wo Tsu...\n",
      "486                              Boruto: Naruto the Movie\n",
      "2342                               Kurokami The Animation\n",
      "1796                                       Rekka no Honoo\n",
      "Name: name, dtype: object\n"
     ]
    }
   ],
   "source": [
    "# 7. Recommendation Function\n",
    "indices = pd.Series(df.index, index=df['name']).drop_duplicates()\n",
    "\n",
    "def recommend_anime(title, top_n=5, threshold=0.2):\n",
    "    if title not in indices:\n",
    "        return f\"Anime '{title}' not found in dataset.\"\n",
    "    \n",
    "    idx = indices[title]\n",
    "    sim_scores = list(enumerate(cosine_sim[idx]))\n",
    "    sim_scores = sorted(sim_scores, key=lambda x: x[1], reverse=True)\n",
    "    \n",
    "    # filter by threshold\n",
    "    sim_scores = [s for s in sim_scores if s[1] >= threshold]\n",
    "    \n",
    "    sim_scores = sim_scores[1:top_n+1]  # skip itself\n",
    "    anime_indices = [i[0] for i in sim_scores]\n",
    "    return df['name'].iloc[anime_indices]\n",
    "\n",
    "# Example: Get recommendations\n",
    "print(\"Recommendations for 'Naruto':\")\n",
    "print(recommend_anime(\"Naruto\", top_n=10, threshold=0.3))"
   ]
  },
  {
   "cell_type": "code",
   "execution_count": 13,
   "id": "84b7c48f-9f3f-4d61-8fdd-94b64072370e",
   "metadata": {},
   "outputs": [
    {
     "name": "stdout",
     "output_type": "stream",
     "text": [
      "Evaluation Metrics:\n",
      "Precision: 1.0\n",
      "Recall: 1.0\n",
      "F1-Score: 1.0\n"
     ]
    }
   ],
   "source": [
    "# 8. Evaluation (Simple Approach)\n",
    "# Split into train/test on ratings\n",
    "train, test = train_test_split(df, test_size=0.2, random_state=42)\n",
    "\n",
    "# Example evaluation using precision/recall\n",
    "# (In real cases, we need user-anime interaction matrix, but here we check similarity coverage)\n",
    "y_true = []\n",
    "y_pred = []\n",
    "\n",
    "for anime in test['name'].sample(50, random_state=42):  # sample 50 test items\n",
    "    recs = recommend_anime(anime, top_n=5, threshold=0.3)\n",
    "    if isinstance(recs, str):  # skip if anime not found\n",
    "        continue\n",
    "    y_true.append(1)  # assume true relevant\n",
    "    y_pred.append(1 if len(recs) > 0 else 0)\n",
    "\n",
    "precision = precision_score(y_true, y_pred)\n",
    "recall = recall_score(y_true, y_pred)\n",
    "f1 = f1_score(y_true, y_pred)\n",
    "\n",
    "print(\"Evaluation Metrics:\")\n",
    "print(\"Precision:\", precision)\n",
    "print(\"Recall:\", recall)\n",
    "print(\"F1-Score:\", f1)"
   ]
  },
  {
   "cell_type": "code",
   "execution_count": null,
   "id": "9c0d792d-48fe-47c2-bb96-812c28fcc231",
   "metadata": {},
   "outputs": [],
   "source": [
    "Interview Questions:\n",
    "\n",
    "1: Difference between User-Based and Item-Based Collaborative Filtering\n",
    "\n",
    "* User-Based Collaborative Filtering (UBCF): Finds similar users based on their ratings or preferences.\n",
    "                                             Recommends items liked by similar users.\n",
    "- Example: If User A and User B have watched many of the same anime, and User B liked \"Naruto Shippuden\", then User A will get it recommended.\n",
    "- Challenge: Works poorly when the number of users is huge (scalability).\n",
    "\n",
    "* Item-Based Collaborative Filtering (IBCF): Finds similar items (anime, movies, books) based on how users have rated them.\n",
    "                                             Recommends items similar to what the user already liked.\n",
    "- Example: If \"Naruto\" and \"Bleach\" are rated similarly by many users, then if a user liked \"Naruto\", they will be recommended \"Bleach\".\n",
    "- Advantage: More stable and scalable than user-based, since items are usually fewer and more consistent than users.\n",
    "\n",
    "* Key Difference: UBCF: looks for similar users.\n",
    "                  IBCF: looks for similar items."
   ]
  },
  {
   "cell_type": "code",
   "execution_count": null,
   "id": "e58011fd-8d7f-45e7-9855-754b2248befa",
   "metadata": {},
   "outputs": [],
   "source": [
    "2: What is Collaborative Filtering, and How Does it Work?\n",
    "\n",
    "* Collaborative Filtering (CF) is a recommendation technique that makes predictions based on the collective preferences of users.\n",
    "  The idea: “People who agreed in the past will likely agree in the future.”\n",
    "\n",
    "* How it works: Build a user–item interaction matrix (e.g., users vs. anime ratings).\n",
    "                Measure similarity (cosine similarity, Pearson correlation, etc.) either between users or between items.\n",
    "                Recommend items that similar users liked (user-based) or items similar to what the user liked (item-based).\n",
    "\n",
    "* Types of CF: User-based CF → recommends items liked by similar users.\n",
    "               Item-based CF → recommends items similar to those the user liked.\n",
    "\n",
    "* Advantages: No need for deep knowledge of items (genres, features).\n",
    "              Learns purely from user interactions.\n",
    "\n",
    "* Limitations: Cold Start Problem → new users or items have no history.\n",
    "               Sparsity → when user–item matrix has too many missing values.\n",
    "               Scalability → with millions of users/items, similarity computation becomes expensive."
   ]
  }
 ],
 "metadata": {
  "kernelspec": {
   "display_name": "Python [conda env:base] *",
   "language": "python",
   "name": "conda-base-py"
  },
  "language_info": {
   "codemirror_mode": {
    "name": "ipython",
    "version": 3
   },
   "file_extension": ".py",
   "mimetype": "text/x-python",
   "name": "python",
   "nbconvert_exporter": "python",
   "pygments_lexer": "ipython3",
   "version": "3.12.7"
  }
 },
 "nbformat": 4,
 "nbformat_minor": 5
}
